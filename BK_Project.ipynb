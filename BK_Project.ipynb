{
 "cells": [
  {
   "cell_type": "code",
   "execution_count": 2,
   "metadata": {},
   "outputs": [],
   "source": [
    "#Dependencies\n",
    "import csv\n",
    "import requests\n",
    "import pandas as pd\n",
    "import json"
   ]
  },
  {
   "cell_type": "code",
   "execution_count": 7,
   "metadata": {},
   "outputs": [
    {
     "name": "stdout",
     "output_type": "stream",
     "text": [
      "[{'REQUESTED_DATETIME': '2009-04-15T14:12:37-06:00', 'SERVICE_NAME': 'Tree Planting requst', 'SERVICE_CODE': 726, 'STATUS_NOTES': 'NULL', 'ZIPCODE': '', 'SERVICE_NOTICE': 'NULL', 'UPDATED_DATETIME': '2009-04-15T00:00:00-06:00', 'AGENCY_RESPONSIBLE': 'FORESTRY,', 'STATUS': 'CLOSED', 'MEDIA_URL': 'NULL', 'DESCRIPTION': 'Please plant tree planted where tree was removed.', 'ADDRESS': '3662 MARCELINE TERRACE', 'EXPECTED_DATETIME': '', 'SERVICE_REQUEST_ID': 32345, 'LAT': 891445.0, 'ADDRESS_ID': 16111000020, 'LONG': 998677.0}]\n"
     ]
    }
   ],
   "source": [
    "#base_url = https://www.stlouis-mo.gov/powernap/stlouis/api.cfm/requests/json?api_key=MTU1MTMwNDQ5NDczNzAuNjg0ODEzNTA4MjU=\n",
    "    \n",
    "stl_response = requests.get('https://www.stlouis-mo.gov/powernap/stlouis/api.cfm/requests/32345.json?api_key=MTU1MTMwNDQ5NDczNzAuNjg0ODEzNTA4MjU=')\n",
    "print(stl_response.json())    \n",
    "    \n",
    "    \n",
    "    "
   ]
  },
  {
   "cell_type": "code",
   "execution_count": null,
   "metadata": {},
   "outputs": [],
   "source": []
  }
 ],
 "metadata": {
  "kernelspec": {
   "display_name": "Python 3",
   "language": "python",
   "name": "python3"
  },
  "language_info": {
   "codemirror_mode": {
    "name": "ipython",
    "version": 3
   },
   "file_extension": ".py",
   "mimetype": "text/x-python",
   "name": "python",
   "nbconvert_exporter": "python",
   "pygments_lexer": "ipython3",
   "version": "3.6.7"
  }
 },
 "nbformat": 4,
 "nbformat_minor": 2
}
